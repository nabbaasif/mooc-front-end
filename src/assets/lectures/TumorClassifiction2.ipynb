{
 "cells": [
  {
   "cell_type": "code",
   "execution_count": 1,
   "metadata": {},
   "outputs": [],
   "source": [
    "from __future__ import division, print_function, absolute_import\n",
    "\n",
    "from skimage import color, io\n",
    "import numpy as np\n",
    "import os\n",
    "from glob import glob\n",
    "import cv2\n",
    "from skimage import transform, io\n",
    "import random\n",
    "from six.moves import cPickle\n",
    "import pickle\n",
    "IMG_SIZE = 256\n",
    "\n",
    "n_files = 4839"
   ]
  },
  {
   "cell_type": "code",
   "execution_count": 2,
   "metadata": {},
   "outputs": [],
   "source": [
    "np.set_printoptions(suppress=True)"
   ]
  },
  {
   "cell_type": "code",
   "execution_count": 5,
   "metadata": {},
   "outputs": [],
   "source": [
    "Normalfolders = [\n",
    "    'a', 'a (2)', 'a (3)','a (4)','a (5)','a (6)','a (7)','a (8)','a (9)','a (10)','a (11)','a (12)','a (13)','a (14)',\n",
    "    'a (15)','a (16)','a (17)','a (19)','a (20)','a (21)','a (22)','a (23)','a (24)','a (25)','DataAugmentation'\n",
    "]\n",
    "TumorFolders = [\n",
    " 'a (3)','a (4)','a (5)','a (6)','a (7)','a (8)','a (9)','a (10)','a (11)','a (12)','a (13)','a (14)',\n",
    "    'a (15)','a (16)','a (17)','a (18)','a (19)','a (20)','a (21)','a (22)','a (23)','a (24)','a (25)',\n",
    "    'a (26)','a (27)','a (28)','a (29)','a (30)','a (31)','a (32)','a (33)','a (35)','a (36)','a (37)',\n",
    "    'a (38)','a (39)','a (40)','a (41)','a (42)','a (43)','a (44)','a (45)','a (46)','a (47)','a (48)',\n",
    "    'a (49)','a (50)','a (51)','a (52)','a (53)','a (55)','a (56)','a (57)'\n",
    "]\n",
    "Normal = \"C:/Users/Kitchen/OneDrive/Desktop/New folder/Normal class/\"\n",
    "Tumor = \"C:/Users/Kitchen/OneDrive/Desktop/New folder/Tumor Class/\"\n",
    "DataAugmentation = \"C:/Users/Kitchen/OneDrive/Desktop/New folder/Normal class/DataAugmentation/\"\n",
    "n_files = 4839\n",
    "allX = np.zeros((n_files, IMG_SIZE, IMG_SIZE, 3), dtype='uint8')\n",
    "ally = np.zeros((n_files), dtype='int32')\n",
    "training_data = []\n",
    "\n",
    "def load_images_from_folder(folder,label):\n",
    "    for filename in os.listdir(folder):\n",
    "        #img = cv2.imread(os.path.join(folder, filename),cv2.IMREAD_GRAYSCALE)\n",
    "        img = cv2.imread(os.path.join(folder, filename))\n",
    "        new_array = cv2.resize(img, (IMG_SIZE,IMG_SIZE))\n",
    "        training_data.append([new_array, label])\n",
    "\n",
    "for folder in Normalfolders:\n",
    "    path = os.path.join(Normal+folder)\n",
    "#     print(path)\n",
    "    load_images_from_folder(path,0)"
   ]
  },
  {
   "cell_type": "markdown",
   "metadata": {},
   "source": [
    "\n",
    "for i in range (700):\n",
    "    # rotating `a` counter clockwise by 90 degrees\n",
    "    rot_by_90=transform.rotate(allX[i], 90)\n",
    "    allX[count] = rot_by_90\n",
    "    ally[y_count] = 0\n",
    "    # define a name for our new file\n",
    "    new_file_path = '%s/augmented_imageX90_%s.jpg' % (DataAugmentation, i)\n",
    "    # write image to the disk\n",
    "    io.imsave(new_file_path, rot_by_90)\n",
    "    count += 1\n",
    "    y_count += 1\n",
    "    # rotating `a` counter clockwise by 180 degrees\n",
    "    rot_by_180=transform.rotate(allX[i], 180)\n",
    "    allX[count] = rot_by_90\n",
    "    ally[y_count] = 0\n",
    "    new_file_path = '%s/augmented_imageX180_%s.jpg' % (DataAugmentation, i)\n",
    "    # write image to the disk\n",
    "    io.imsave(new_file_path, rot_by_180)\n",
    "    count += 1\n",
    "    y_count += 1"
   ]
  },
  {
   "cell_type": "code",
   "execution_count": 6,
   "metadata": {},
   "outputs": [
    {
     "name": "stdout",
     "output_type": "stream",
     "text": [
      "Total Images before appending Tumor class:  2401\n",
      "Total Images after appending Tumor class:  4839\n"
     ]
    }
   ],
   "source": [
    "print(\"Total Images before appending Tumor class: \",len(training_data))\n",
    "\n",
    "for folder in TumorFolders:\n",
    "    path = os.path.join(Tumor+folder)\n",
    "#     print(path)\n",
    "    load_images_from_folder(path,1)\n",
    "print(\"Total Images after appending Tumor class: \",len(training_data))"
   ]
  },
  {
   "cell_type": "code",
   "execution_count": 7,
   "metadata": {},
   "outputs": [
    {
     "name": "stdout",
     "output_type": "stream",
     "text": [
      "(256, 256, 3)\n"
     ]
    }
   ],
   "source": [
    "print(training_data[1000][0].shape)\n",
    "#shuffle the images to change data order\n",
    "random.shuffle(training_data)\n"
   ]
  },
  {
   "cell_type": "code",
   "execution_count": null,
   "metadata": {},
   "outputs": [],
   "source": [
    "# if(os.path.exists(\"X[ImagesX128-color].pickle\")):\n",
    "#     pickle_in = open(\"X[ImagesX128-color].pickle\", \"rb\")\n",
    "#     X = pickle.load(pickle_in)\n",
    "#     pickle_in.close()\n",
    "\n",
    "#     pickle_in = open(\"Y[Lables].pickle\", \"rb\")\n",
    "#     Y = pickle.load(pickle_in)\n",
    "#     pickle_in.close()\n",
    "#     Y = np.array(Y)\n",
    "# else:\n",
    "pickle_out = open(\"X[ImagesX128-color].pickle\", \"wb\")\n",
    "pickle.dump(allX, pickle_out,protocol=4)\n",
    "pickle_out.close()\n",
    "\n",
    "pickle_out = open(\"Y[Lables].pickle\", \"wb\")\n",
    "pickle.dump(ally, pickle_out,protocol=4)\n",
    "pickle_out.close()\n"
   ]
  },
  {
   "cell_type": "code",
   "execution_count": 16,
   "metadata": {},
   "outputs": [
    {
     "data": {
      "image/png": "[encoded data removed]",
      "text/plain": [
       "<Figure size 432x288 with 1 Axes>"
      ]
     },
     "metadata": {
      "needs_background": "light"
     },
     "output_type": "display_data"
    },
    {
     "name": "stdout",
     "output_type": "stream",
     "text": [
      "1\n"
     ]
    }
   ],
   "source": [
    "import matplotlib.pyplot as plt\n",
    "plt.imshow(allX[211])\n",
    "plt.show()\n",
    "print(ally[211])\n"
   ]
  },
  {
   "cell_type": "code",
   "execution_count": 11,
   "metadata": {},
   "outputs": [],
   "source": [
    "count = 0\n",
    "for features, label in training_data:\n",
    "    allX[count] = features\n",
    "    ally[count] = label\n",
    "    count +=1\n"
   ]
  },
  {
   "cell_type": "code",
   "execution_count": 12,
   "metadata": {},
   "outputs": [
    {
     "name": "stdout",
     "output_type": "stream",
     "text": [
      "(4839, 256, 256, 3)\n"
     ]
    }
   ],
   "source": [
    "from tensorflow.keras.models import Sequential\n",
    "from tensorflow.keras.layers import Dense, Dropout, Activation, Flatten, Conv2D, MaxPooling2D\n",
    "from tensorflow.keras.callbacks import TensorBoard, ModelCheckpoint\n",
    "import tensorflow as tf\n",
    "import datetime\n",
    "import pickle\n",
    "import os\n",
    "print(allX.shape)"
   ]
  },
  {
   "cell_type": "code",
   "execution_count": 18,
   "metadata": {},
   "outputs": [
    {
     "name": "stdout",
     "output_type": "stream",
     "text": [
      "Model: \"sequential_2\"\n",
      "_________________________________________________________________\n",
      "Layer (type)                 Output Shape              Param #   \n",
      "=================================================================\n",
      "conv2d_6 (Conv2D)            (None, 254, 254, 64)      1792      \n",
      "_________________________________________________________________\n",
      "max_pooling2d_6 (MaxPooling2 (None, 127, 127, 64)      0         \n",
      "_________________________________________________________________\n",
      "conv2d_7 (Conv2D)            (None, 125, 125, 32)      18464     \n",
      "_________________________________________________________________\n",
      "max_pooling2d_7 (MaxPooling2 (None, 62, 62, 32)        0         \n",
      "_________________________________________________________________\n",
      "conv2d_8 (Conv2D)            (None, 60, 60, 64)        18496     \n",
      "_________________________________________________________________\n",
      "max_pooling2d_8 (MaxPooling2 (None, 30, 30, 64)        0         \n",
      "_________________________________________________________________\n",
      "flatten_2 (Flatten)          (None, 57600)             0         \n",
      "_________________________________________________________________\n",
      "dense_4 (Dense)              (None, 512)               29491712  \n",
      "_________________________________________________________________\n",
      "dropout (Dropout)            (None, 512)               0         \n",
      "_________________________________________________________________\n",
      "dense_5 (Dense)              (None, 1)                 513       \n",
      "=================================================================\n",
      "Total params: 29,530,977\n",
      "Trainable params: 29,530,977\n",
      "Non-trainable params: 0\n",
      "_________________________________________________________________\n"
     ]
    }
   ],
   "source": [
    "\n",
    "# model = Sequential()\n",
    "\n",
    "# model.add(Conv2D(64, (3,3),activation='relu', input_shape = allX.shape[1:]))\n",
    "# model.add(Conv2D(16, (5,5),activation='relu'))\n",
    "# model.add(MaxPooling2D(2,2))\n",
    "# model.add(Conv2D(32, (3,3),activation='relu'))\n",
    "# model.add(MaxPooling2D(2,2))\n",
    "# model.add(Conv2D(64, (3,3),activation='relu'))\n",
    "# model.add(Conv2D(128, (2,2),activation='relu'))\n",
    "\n",
    "\n",
    "\n",
    "# model.add(Flatten())\n",
    "# model.add(Dense(512, activation='relu'))\n",
    "# model.add(Dropout(0.5))\n",
    "\n",
    "# model.add(Dense(1, activation='sigmoid'))\n",
    "# model.summary()\n",
    "model = Sequential()\n",
    "model.add(Conv2D(64, (3,3),activation='relu', input_shape = allX.shape[1:]))\n",
    "model.add(MaxPooling2D(2,2))\n",
    "model.add(Conv2D(32, (3,3),activation='relu'))\n",
    "model.add(MaxPooling2D(2,2))\n",
    "model.add(Conv2D(64, (3,3),activation='relu'))\n",
    "model.add(MaxPooling2D(2,2))\n",
    "\n",
    "\n",
    "model.add(Flatten())\n",
    "model.add(Dense(512, activation='relu'))\n",
    "model.add(Dropout(0.5))\n",
    "\n",
    "model.add(Dense(1, activation='sigmoid'))\n",
    "model.summary()"
   ]
  },
  {
   "cell_type": "code",
   "execution_count": 14,
   "metadata": {},
   "outputs": [],
   "source": [
    "NAME=\"Tumor-vs-normal-64X2-512{}\".format(datetime.datetime.now().strftime(\"%Y%m%d-%H%M%S\"))\n",
    "tensorflow_callback = TensorBoard(log_dir='logs\\\\{}'.format(NAME), histogram_freq=1)\n",
    "checkpoint_path = \"Tumor64X2-512/normalvstumor.ckpt\"\n",
    "\n",
    "# Create checkpoint callback\n",
    "cp_callback = ModelCheckpoint(checkpoint_path,save_weights_only=True, monitor = \"val_loss\", verbose = 0)\n"
   ]
  },
  {
   "cell_type": "code",
   "execution_count": 15,
   "metadata": {},
   "outputs": [
    {
     "name": "stderr",
     "output_type": "stream",
     "text": [
      "WARNING: Logging before flag parsing goes to stderr.\n",
      "W0209 21:08:23.234310 14152 deprecation.py:323] From C:\\ProgramData\\Anaconda3\\envs\\tensor\\lib\\site-packages\\tensorflow\\python\\ops\\math_grad.py:1250: add_dispatch_support.<locals>.wrapper (from tensorflow.python.ops.array_ops) is deprecated and will be removed in a future version.\n",
      "Instructions for updating:\n",
      "Use tf.where in 2.0, which has the same broadcast rule as np.where\n"
     ]
    },
    {
     "name": "stdout",
     "output_type": "stream",
     "text": [
      "Train on 3871 samples, validate on 968 samples\n",
      "Epoch 1/10\n",
      "3871/3871 [==============================] - 317s 82ms/sample - loss: 6.3491 - accuracy: 0.5856 - val_loss: 4.0832 - val_accuracy: 0.7345\n",
      "Epoch 2/10\n",
      "3871/3871 [==============================] - 307s 79ms/sample - loss: 4.1170 - accuracy: 0.7324 - val_loss: 4.1313 - val_accuracy: 0.7314\n",
      "Epoch 3/10\n",
      "3871/3871 [==============================] - 305s 79ms/sample - loss: 4.1210 - accuracy: 0.7321 - val_loss: 4.1313 - val_accuracy: 0.7314\n",
      "Epoch 4/10\n",
      "3871/3871 [==============================] - 304s 79ms/sample - loss: 4.1210 - accuracy: 0.7321 - val_loss: 4.1313 - val_accuracy: 0.7314\n",
      "Epoch 5/10\n",
      "3871/3871 [==============================] - 355s 92ms/sample - loss: 4.1210 - accuracy: 0.7321 - val_loss: 4.1313 - val_accuracy: 0.7314\n",
      "Epoch 6/10\n",
      "3871/3871 [==============================] - 371s 96ms/sample - loss: 4.1210 - accuracy: 0.7321 - val_loss: 4.1313 - val_accuracy: 0.7314\n",
      "Epoch 7/10\n",
      "3871/3871 [==============================] - 385s 100ms/sample - loss: 4.1210 - accuracy: 0.7321 - val_loss: 4.1313 - val_accuracy: 0.7314\n",
      "Epoch 8/10\n",
      "3871/3871 [==============================] - 401s 104ms/sample - loss: 4.1210 - accuracy: 0.7321 - val_loss: 4.1313 - val_accuracy: 0.7314\n",
      "Epoch 9/10\n",
      "3871/3871 [==============================] - 380s 98ms/sample - loss: 4.1210 - accuracy: 0.7321 - val_loss: 4.1313 - val_accuracy: 0.7314\n",
      "Epoch 10/10\n",
      "3871/3871 [==============================] - 416s 108ms/sample - loss: 4.1210 - accuracy: 0.7321 - val_loss: 4.1313 - val_accuracy: 0.7314\n"
     ]
    },
    {
     "data": {
      "text/plain": [
       "<tensorflow.python.keras.callbacks.History at 0x1ffe59be3c8>"
      ]
     },
     "execution_count": 15,
     "metadata": {},
     "output_type": "execute_result"
    }
   ],
   "source": [
    "opt = tf.keras.optimizers.Adam(lr=0.001)\n",
    "model.compile(optimizer=opt, loss='binary_crossentropy', metrics=['accuracy'])\n",
    "model.fit(allX, ally, batch_size = 32, validation_split = 0.2, epochs=10, callbacks = [tensorflow_callback,cp_callback])"
   ]
  },
  {
   "cell_type": "code",
   "execution_count": 19,
   "metadata": {},
   "outputs": [
    {
     "ename": "NotFoundError",
     "evalue": "Failed to create a directory: Tumor64X2-512/normalvstumor.model\\variables; No such file or directory",
     "output_type": "error",
     "traceback": [
      "\u001b[1;31m---------------------------------------------------------------------------\u001b[0m",
      "\u001b[1;31mNotFoundError\u001b[0m                             Traceback (most recent call last)",
      "\u001b[1;32m<ipython-input-19-8d1238fba7a7>\u001b[0m in \u001b[0;36m<module>\u001b[1;34m\u001b[0m\n\u001b[1;32m----> 1\u001b[1;33m \u001b[0mmodel\u001b[0m\u001b[1;33m.\u001b[0m\u001b[0msave\u001b[0m\u001b[1;33m(\u001b[0m\u001b[1;34m\"Tumor64X2-512/normalvstumor.model\"\u001b[0m\u001b[1;33m)\u001b[0m\u001b[1;33m\u001b[0m\u001b[1;33m\u001b[0m\u001b[0m\n\u001b[0m",
      "\u001b[1;32mC:\\ProgramData\\Anaconda3\\envs\\tensor\\lib\\site-packages\\tensorflow\\python\\keras\\engine\\network.py\u001b[0m in \u001b[0;36msave\u001b[1;34m(self, filepath, overwrite, include_optimizer, save_format)\u001b[0m\n\u001b[0;32m   1211\u001b[0m     \u001b[0;31m`\u001b[0m\u001b[0;31m`\u001b[0m\u001b[0;31m`\u001b[0m\u001b[1;33m\u001b[0m\u001b[1;33m\u001b[0m\u001b[0m\n\u001b[0;32m   1212\u001b[0m     \"\"\"\n\u001b[1;32m-> 1213\u001b[1;33m     \u001b[0msaving\u001b[0m\u001b[1;33m.\u001b[0m\u001b[0msave_model\u001b[0m\u001b[1;33m(\u001b[0m\u001b[0mself\u001b[0m\u001b[1;33m,\u001b[0m \u001b[0mfilepath\u001b[0m\u001b[1;33m,\u001b[0m \u001b[0moverwrite\u001b[0m\u001b[1;33m,\u001b[0m \u001b[0minclude_optimizer\u001b[0m\u001b[1;33m,\u001b[0m \u001b[0msave_format\u001b[0m\u001b[1;33m)\u001b[0m\u001b[1;33m\u001b[0m\u001b[1;33m\u001b[0m\u001b[0m\n\u001b[0m\u001b[0;32m   1214\u001b[0m \u001b[1;33m\u001b[0m\u001b[0m\n\u001b[0;32m   1215\u001b[0m   \u001b[1;32mdef\u001b[0m \u001b[0msave_weights\u001b[0m\u001b[1;33m(\u001b[0m\u001b[0mself\u001b[0m\u001b[1;33m,\u001b[0m \u001b[0mfilepath\u001b[0m\u001b[1;33m,\u001b[0m \u001b[0moverwrite\u001b[0m\u001b[1;33m=\u001b[0m\u001b[1;32mTrue\u001b[0m\u001b[1;33m,\u001b[0m \u001b[0msave_format\u001b[0m\u001b[1;33m=\u001b[0m\u001b[1;32mNone\u001b[0m\u001b[1;33m)\u001b[0m\u001b[1;33m:\u001b[0m\u001b[1;33m\u001b[0m\u001b[1;33m\u001b[0m\u001b[0m\n",
      "\u001b[1;32mC:\\ProgramData\\Anaconda3\\envs\\tensor\\lib\\site-packages\\tensorflow\\python\\keras\\saving\\save.py\u001b[0m in \u001b[0;36msave_model\u001b[1;34m(model, filepath, overwrite, include_optimizer, save_format)\u001b[0m\n\u001b[0;32m    104\u001b[0m         model, filepath, overwrite, include_optimizer)\n\u001b[0;32m    105\u001b[0m   \u001b[1;32melse\u001b[0m\u001b[1;33m:\u001b[0m\u001b[1;33m\u001b[0m\u001b[1;33m\u001b[0m\u001b[0m\n\u001b[1;32m--> 106\u001b[1;33m     \u001b[0msaved_model\u001b[0m\u001b[1;33m.\u001b[0m\u001b[0msave\u001b[0m\u001b[1;33m(\u001b[0m\u001b[0mmodel\u001b[0m\u001b[1;33m,\u001b[0m \u001b[0mfilepath\u001b[0m\u001b[1;33m,\u001b[0m \u001b[0moverwrite\u001b[0m\u001b[1;33m,\u001b[0m \u001b[0minclude_optimizer\u001b[0m\u001b[1;33m)\u001b[0m\u001b[1;33m\u001b[0m\u001b[1;33m\u001b[0m\u001b[0m\n\u001b[0m\u001b[0;32m    107\u001b[0m \u001b[1;33m\u001b[0m\u001b[0m\n\u001b[0;32m    108\u001b[0m \u001b[1;33m\u001b[0m\u001b[0m\n",
      "\u001b[1;32mC:\\ProgramData\\Anaconda3\\envs\\tensor\\lib\\site-packages\\tensorflow\\python\\keras\\saving\\saved_model.py\u001b[0m in \u001b[0;36msave\u001b[1;34m(model, filepath, overwrite, include_optimizer)\u001b[0m\n\u001b[0;32m   1490\u001b[0m     \u001b[0mmodel\u001b[0m\u001b[1;33m.\u001b[0m\u001b[0moptimizer\u001b[0m \u001b[1;33m=\u001b[0m \u001b[1;32mNone\u001b[0m\u001b[1;33m\u001b[0m\u001b[1;33m\u001b[0m\u001b[0m\n\u001b[0;32m   1491\u001b[0m \u001b[1;33m\u001b[0m\u001b[0m\n\u001b[1;32m-> 1492\u001b[1;33m   \u001b[0msave_lib\u001b[0m\u001b[1;33m.\u001b[0m\u001b[0msave\u001b[0m\u001b[1;33m(\u001b[0m\u001b[0mmodel\u001b[0m\u001b[1;33m,\u001b[0m \u001b[0mfilepath\u001b[0m\u001b[1;33m)\u001b[0m\u001b[1;33m\u001b[0m\u001b[1;33m\u001b[0m\u001b[0m\n\u001b[0m\u001b[0;32m   1493\u001b[0m \u001b[1;33m\u001b[0m\u001b[0m\n\u001b[0;32m   1494\u001b[0m   \u001b[1;32mif\u001b[0m \u001b[1;32mnot\u001b[0m \u001b[0minclude_optimizer\u001b[0m\u001b[1;33m:\u001b[0m\u001b[1;33m\u001b[0m\u001b[1;33m\u001b[0m\u001b[0m\n",
      "\u001b[1;32mC:\\ProgramData\\Anaconda3\\envs\\tensor\\lib\\site-packages\\tensorflow\\python\\saved_model\\save.py\u001b[0m in \u001b[0;36msave\u001b[1;34m(obj, export_dir, signatures)\u001b[0m\n\u001b[0;32m    839\u001b[0m   \u001b[1;31m# the checkpoint, copy assets into the assets directory, and write out the\u001b[0m\u001b[1;33m\u001b[0m\u001b[1;33m\u001b[0m\u001b[1;33m\u001b[0m\u001b[0m\n\u001b[0;32m    840\u001b[0m   \u001b[1;31m# SavedModel proto itself.\u001b[0m\u001b[1;33m\u001b[0m\u001b[1;33m\u001b[0m\u001b[1;33m\u001b[0m\u001b[0m\n\u001b[1;32m--> 841\u001b[1;33m   \u001b[0mutils_impl\u001b[0m\u001b[1;33m.\u001b[0m\u001b[0mget_or_create_variables_dir\u001b[0m\u001b[1;33m(\u001b[0m\u001b[0mexport_dir\u001b[0m\u001b[1;33m)\u001b[0m\u001b[1;33m\u001b[0m\u001b[1;33m\u001b[0m\u001b[0m\n\u001b[0m\u001b[0;32m    842\u001b[0m   \u001b[0mobject_saver\u001b[0m\u001b[1;33m.\u001b[0m\u001b[0msave\u001b[0m\u001b[1;33m(\u001b[0m\u001b[0mutils_impl\u001b[0m\u001b[1;33m.\u001b[0m\u001b[0mget_variables_path\u001b[0m\u001b[1;33m(\u001b[0m\u001b[0mexport_dir\u001b[0m\u001b[1;33m)\u001b[0m\u001b[1;33m)\u001b[0m\u001b[1;33m\u001b[0m\u001b[1;33m\u001b[0m\u001b[0m\n\u001b[0;32m    843\u001b[0m   builder_impl.copy_assets_to_destination_dir(asset_info.asset_filename_map,\n",
      "\u001b[1;32mC:\\ProgramData\\Anaconda3\\envs\\tensor\\lib\\site-packages\\tensorflow\\python\\saved_model\\utils_impl.py\u001b[0m in \u001b[0;36mget_or_create_variables_dir\u001b[1;34m(export_dir)\u001b[0m\n\u001b[0;32m    181\u001b[0m   \u001b[0mvariables_dir\u001b[0m \u001b[1;33m=\u001b[0m \u001b[0mget_variables_dir\u001b[0m\u001b[1;33m(\u001b[0m\u001b[0mexport_dir\u001b[0m\u001b[1;33m)\u001b[0m\u001b[1;33m\u001b[0m\u001b[1;33m\u001b[0m\u001b[0m\n\u001b[0;32m    182\u001b[0m   \u001b[1;32mif\u001b[0m \u001b[1;32mnot\u001b[0m \u001b[0mfile_io\u001b[0m\u001b[1;33m.\u001b[0m\u001b[0mfile_exists\u001b[0m\u001b[1;33m(\u001b[0m\u001b[0mvariables_dir\u001b[0m\u001b[1;33m)\u001b[0m\u001b[1;33m:\u001b[0m\u001b[1;33m\u001b[0m\u001b[1;33m\u001b[0m\u001b[0m\n\u001b[1;32m--> 183\u001b[1;33m     \u001b[0mfile_io\u001b[0m\u001b[1;33m.\u001b[0m\u001b[0mrecursive_create_dir\u001b[0m\u001b[1;33m(\u001b[0m\u001b[0mvariables_dir\u001b[0m\u001b[1;33m)\u001b[0m\u001b[1;33m\u001b[0m\u001b[1;33m\u001b[0m\u001b[0m\n\u001b[0m\u001b[0;32m    184\u001b[0m   \u001b[1;32mreturn\u001b[0m \u001b[0mvariables_dir\u001b[0m\u001b[1;33m\u001b[0m\u001b[1;33m\u001b[0m\u001b[0m\n\u001b[0;32m    185\u001b[0m \u001b[1;33m\u001b[0m\u001b[0m\n",
      "\u001b[1;32mC:\\ProgramData\\Anaconda3\\envs\\tensor\\lib\\site-packages\\tensorflow\\python\\lib\\io\\file_io.py\u001b[0m in \u001b[0;36mrecursive_create_dir\u001b[1;34m(dirname)\u001b[0m\n\u001b[0;32m    436\u001b[0m     \u001b[0merrors\u001b[0m\u001b[1;33m.\u001b[0m\u001b[0mOpError\u001b[0m\u001b[1;33m:\u001b[0m \u001b[0mIf\u001b[0m \u001b[0mthe\u001b[0m \u001b[0moperation\u001b[0m \u001b[0mfails\u001b[0m\u001b[1;33m.\u001b[0m\u001b[1;33m\u001b[0m\u001b[1;33m\u001b[0m\u001b[0m\n\u001b[0;32m    437\u001b[0m   \"\"\"\n\u001b[1;32m--> 438\u001b[1;33m   \u001b[0mrecursive_create_dir_v2\u001b[0m\u001b[1;33m(\u001b[0m\u001b[0mdirname\u001b[0m\u001b[1;33m)\u001b[0m\u001b[1;33m\u001b[0m\u001b[1;33m\u001b[0m\u001b[0m\n\u001b[0m\u001b[0;32m    439\u001b[0m \u001b[1;33m\u001b[0m\u001b[0m\n\u001b[0;32m    440\u001b[0m \u001b[1;33m\u001b[0m\u001b[0m\n",
      "\u001b[1;32mC:\\ProgramData\\Anaconda3\\envs\\tensor\\lib\\site-packages\\tensorflow\\python\\lib\\io\\file_io.py\u001b[0m in \u001b[0;36mrecursive_create_dir_v2\u001b[1;34m(path)\u001b[0m\n\u001b[0;32m    451\u001b[0m     \u001b[0merrors\u001b[0m\u001b[1;33m.\u001b[0m\u001b[0mOpError\u001b[0m\u001b[1;33m:\u001b[0m \u001b[0mIf\u001b[0m \u001b[0mthe\u001b[0m \u001b[0moperation\u001b[0m \u001b[0mfails\u001b[0m\u001b[1;33m.\u001b[0m\u001b[1;33m\u001b[0m\u001b[1;33m\u001b[0m\u001b[0m\n\u001b[0;32m    452\u001b[0m   \"\"\"\n\u001b[1;32m--> 453\u001b[1;33m   \u001b[0mpywrap_tensorflow\u001b[0m\u001b[1;33m.\u001b[0m\u001b[0mRecursivelyCreateDir\u001b[0m\u001b[1;33m(\u001b[0m\u001b[0mcompat\u001b[0m\u001b[1;33m.\u001b[0m\u001b[0mas_bytes\u001b[0m\u001b[1;33m(\u001b[0m\u001b[0mpath\u001b[0m\u001b[1;33m)\u001b[0m\u001b[1;33m)\u001b[0m\u001b[1;33m\u001b[0m\u001b[1;33m\u001b[0m\u001b[0m\n\u001b[0m\u001b[0;32m    454\u001b[0m \u001b[1;33m\u001b[0m\u001b[0m\n\u001b[0;32m    455\u001b[0m \u001b[1;33m\u001b[0m\u001b[0m\n",
      "\u001b[1;31mNotFoundError\u001b[0m: Failed to create a directory: Tumor64X2-512/normalvstumor.model\\variables; No such file or directory"
     ]
    }
   ],
   "source": [
    "model.save(\"Tumor64X2-512/normalvstumor.model\")"
   ]
  },
  {
   "cell_type": "code",
   "execution_count": null,
   "metadata": {},
   "outputs": [],
   "source": []
  }
 ],
 "metadata": {
  "kernelspec": {
   "display_name": "Python 3",
   "language": "python",
   "name": "python3"
  },
  "language_info": {
   "codemirror_mode": {
    "name": "ipython",
    "version": 3
   },
   "file_extension": ".py",
   "mimetype": "text/x-python",
   "name": "python",
   "nbconvert_exporter": "python",
   "pygments_lexer": "ipython3",
   "version": "3.7.6"
  }
 },
 "nbformat": 4,
 "nbformat_minor": 2
}
